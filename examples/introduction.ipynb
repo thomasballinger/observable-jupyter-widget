{
 "cells": [
  {
   "cell_type": "markdown",
   "metadata": {},
   "source": [
    "# Communicate between Observable cells and Python\n",
    "\n",
    "`ObservableWidget` from the `observable_jupyter_widget` package is an [Jupyter Widget](https://ipywidgets.readthedocs.io/en/latest/) that embeds a subset of cells of an [Observable](https://observablehq.com/) notebook. The `.value` attribute of the Python widget object is a dictionary with the current value of every rendered Observable cell. Assigning to the `.inputs` attribute causes Python vaules to be mapped in to the Observable notebook cells."
   ]
  },
  {
   "cell_type": "code",
   "execution_count": 1,
   "metadata": {},
   "outputs": [],
   "source": [
    "import observable_jupyter_widget\n",
    "import ipywidgets as widgets\n",
    "from pprint import pprint"
   ]
  },
  {
   "cell_type": "code",
   "execution_count": 2,
   "metadata": {
    "scrolled": true
   },
   "outputs": [
    {
     "data": {
      "application/vnd.jupyter.widget-view+json": {
       "model_id": "a60e2cf7b33c461f8c11f9529dd9e7e4",
       "version_major": 2,
       "version_minor": 0
      },
      "text/plain": [
       "ObservableWidget(cells=['vegaPetalsWidget', 'viewof minSepalLength', 'viewof minSepalWidth', 'extraCell'], inp…"
      ]
     },
     "metadata": {},
     "output_type": "display_data"
    }
   ],
   "source": [
    "w = observable_jupyter_widget.ObservableWidget(\n",
    "    '@ballingt/embedding-example',\n",
    "    cells=['vegaPetalsWidget', 'viewof minSepalLength', 'viewof minSepalWidth', 'extraCell'],\n",
    "    inputs={'extraCell': 123},\n",
    ")\n",
    "w"
   ]
  },
  {
   "cell_type": "code",
   "execution_count": 3,
   "metadata": {},
   "outputs": [
    {
     "data": {
      "application/vnd.jupyter.widget-view+json": {
       "model_id": "cc340a050b65477fa9d7a2ccdd3e3280",
       "version_major": 2,
       "version_minor": 0
      },
      "text/plain": [
       "Output()"
      ]
     },
     "metadata": {},
     "output_type": "display_data"
    }
   ],
   "source": [
    "output = widgets.Output()\n",
    "\n",
    "def on_value_change(change):\n",
    "    with output:\n",
    "        pprint(w.value); output.clear_output(wait=True)\n",
    "        \n",
    "w.observe(on_value_change, names='value'); \n",
    "output"
   ]
  },
  {
   "cell_type": "code",
   "execution_count": 4,
   "metadata": {},
   "outputs": [],
   "source": [
    "w.inputs = {'extraCell': 1987987}"
   ]
  }
 ],
 "metadata": {
  "kernelspec": {
   "display_name": "Python 3 (ipykernel)",
   "language": "python",
   "name": "python3"
  },
  "language_info": {
   "codemirror_mode": {
    "name": "ipython",
    "version": 3
   },
   "file_extension": ".py",
   "mimetype": "text/x-python",
   "name": "python",
   "nbconvert_exporter": "python",
   "pygments_lexer": "ipython3",
   "version": "3.10.0"
  }
 },
 "nbformat": 4,
 "nbformat_minor": 4
}
