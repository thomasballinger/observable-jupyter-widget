{
 "cells": [
  {
   "cell_type": "markdown",
   "metadata": {},
   "source": [
    "# Communicate between Observable cells and Python\n",
    "\n",
    "`ObservableWidget` from the `observable_jupyter_widget` package is an [Jupyter Widget](https://ipywidgets.readthedocs.io/en/latest/) that embeds a subset of cells of an [Observable](https://observablehq.com/) notebook. The `.value` attribute of the Python widget object is a dictionary with the current value of every rendered Observable cell. The `.redefine(cellName=\"new value\")` method of the widget object causes Python vaules to be mapped in to the Observable notebook cells."
   ]
  },
  {
   "cell_type": "code",
   "execution_count": 1,
   "metadata": {},
   "outputs": [],
   "source": [
    "import observable_jupyter_widget\n",
    "import ipywidgets as widgets\n",
    "from pprint import pprint"
   ]
  },
  {
   "cell_type": "code",
   "execution_count": 2,
   "metadata": {
    "scrolled": true
   },
   "outputs": [
    {
     "data": {
      "application/vnd.jupyter.widget-view+json": {
       "model_id": "ead5e9ba48844eb1ba31c794dd46fc6d",
       "version_major": 2,
       "version_minor": 0
      },
      "text/plain": [
       "ObservableWidget(cells=['vegaPetalsWidget', 'viewof minSepalLength', 'viewof minSepalWidth', 'extraCell'], inp…"
      ]
     },
     "metadata": {},
     "output_type": "display_data"
    }
   ],
   "source": [
    "w = observable_jupyter_widget.ObservableWidget(\n",
    "    '@ballingt/embedding-example',\n",
    "    cells=['vegaPetalsWidget', 'viewof minSepalLength', 'viewof minSepalWidth', 'extraCell'],\n",
    "    inputs={'extraCell': 123},\n",
    ")\n",
    "w"
   ]
  },
  {
   "cell_type": "code",
   "execution_count": 3,
   "metadata": {},
   "outputs": [
    {
     "data": {
      "application/vnd.jupyter.widget-view+json": {
       "model_id": "c68519ef21f44a33a47eb07a76fe137a",
       "version_major": 2,
       "version_minor": 0
      },
      "text/plain": [
       "Output()"
      ]
     },
     "metadata": {},
     "output_type": "display_data"
    }
   ],
   "source": [
    "output = widgets.Output()\n",
    "\n",
    "def on_value_change(change):\n",
    "    with output:\n",
    "        pprint(w.value)\n",
    "        \n",
    "w.observe(on_value_change, names='value');\n",
    "output"
   ]
  },
  {
   "cell_type": "code",
   "execution_count": 4,
   "metadata": {},
   "outputs": [],
   "source": [
    "w.redefine(extraCell=123123)"
   ]
  }
 ],
 "metadata": {
  "kernelspec": {
   "display_name": "Python 3 (ipykernel)",
   "language": "python",
   "name": "python3"
  },
  "language_info": {
   "codemirror_mode": {
    "name": "ipython",
    "version": 3
   },
   "file_extension": ".py",
   "mimetype": "text/x-python",
   "name": "python",
   "nbconvert_exporter": "python",
   "pygments_lexer": "ipython3",
   "version": "3.10.0"
  }
 },
 "nbformat": 4,
 "nbformat_minor": 4
}
