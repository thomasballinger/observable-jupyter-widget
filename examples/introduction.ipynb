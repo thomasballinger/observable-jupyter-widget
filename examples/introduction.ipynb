{
 "cells": [
  {
   "cell_type": "markdown",
   "metadata": {},
   "source": [
    "# Communicate between Observable cells and Python\n",
    "\n",
    "`ObservableWidget` from the `observable_jupyter_widget` package is an [Jupyter Widget](https://ipywidgets.readthedocs.io/en/latest/) that embeds a subset of cells of an [Observable](https://observablehq.com/) notebook. The `.value` attribute of the Python widget object is a dictionary with the current value of every rendered Observable cell. The `.redefine(cellName=\"new value\")` method of the widget object causes Python vaules to be mapped in to the Observable notebook cells."
   ]
  },
  {
   "cell_type": "code",
   "execution_count": 1,
   "metadata": {},
   "outputs": [],
   "source": [
    "import observable_jupyter_widget\n",
    "import ipywidgets as widgets\n",
    "from pprint import pprint\n",
    "import ipython_blocking"
   ]
  },
  {
   "cell_type": "code",
   "execution_count": 2,
   "metadata": {},
   "outputs": [
    {
     "data": {
      "application/vnd.jupyter.widget-view+json": {
       "model_id": "73b53846dcac4e6895865cfef54e4253",
       "version_major": 2,
       "version_minor": 0
      },
      "text/plain": [
       "ObservableWidget(value=None, cells=['vegaPetalsWidget', 'viewof minSepalLength', 'viewof minSepalWidth', 'extr…"
      ]
     },
     "metadata": {},
     "output_type": "display_data"
    }
   ],
   "source": [
    "w = observable_jupyter_widget.ObservableWidget(\n",
    "    '@ballingt/embedding-example',\n",
    "    cells=['vegaPetalsWidget', 'viewof minSepalLength', 'viewof minSepalWidth', 'extraCell'],\n",
    "    inputs={'extraCell': 123},\n",
    "    outputs=['minSepalLength', 'extraCell', 'vegaPetalsWidget']\n",
    ")\n",
    "display(w)\n",
    "observable_output_ready = lambda: w.value != None"
   ]
  },
  {
   "cell_type": "code",
   "execution_count": 7,
   "metadata": {},
   "outputs": [],
   "source": [
    "# pause notebook execution until output from the the embedded Observable notebook output is ready\n",
    "# this magic provided by thte ipython_blocking library\n",
    "%block observable_output_ready"
   ]
  },
  {
   "cell_type": "code",
   "execution_count": 4,
   "metadata": {},
   "outputs": [
    {
     "data": {
      "text/plain": [
       "{'minSepalLength': 5, 'extraCell': 123, 'vegaPetalsWidget': None}"
      ]
     },
     "execution_count": 4,
     "metadata": {},
     "output_type": "execute_result"
    }
   ],
   "source": [
    "w.value"
   ]
  },
  {
   "cell_type": "code",
   "execution_count": 5,
   "metadata": {},
   "outputs": [
    {
     "data": {
      "application/vnd.jupyter.widget-view+json": {
       "model_id": "f8950df49d8b4130819515b80fc36532",
       "version_major": 2,
       "version_minor": 0
      },
      "text/plain": [
       "Output()"
      ]
     },
     "metadata": {},
     "output_type": "display_data"
    }
   ],
   "source": [
    "output = widgets.Output()\n",
    "\n",
    "def on_value_change(change):\n",
    "    with output:\n",
    "        pprint(w.output)\n",
    "        \n",
    "w.observe(on_value_change, names='value');\n",
    "output"
   ]
  },
  {
   "cell_type": "code",
   "execution_count": 6,
   "metadata": {},
   "outputs": [],
   "source": [
    "w.redefine(extraCell=123123)"
   ]
  }
 ],
 "metadata": {
  "kernelspec": {
   "display_name": "Python 3 (ipykernel)",
   "language": "python",
   "name": "python3"
  },
  "language_info": {
   "codemirror_mode": {
    "name": "ipython",
    "version": 3
   },
   "file_extension": ".py",
   "mimetype": "text/x-python",
   "name": "python",
   "nbconvert_exporter": "python",
   "pygments_lexer": "ipython3",
   "version": "3.10.0"
  }
 },
 "nbformat": 4,
 "nbformat_minor": 4
}
